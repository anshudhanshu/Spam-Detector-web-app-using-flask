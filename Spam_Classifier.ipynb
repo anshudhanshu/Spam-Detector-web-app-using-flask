{
  "nbformat": 4,
  "nbformat_minor": 0,
  "metadata": {
    "colab": {
      "name": "Spam Classifier.ipynb",
      "provenance": []
    },
    "kernelspec": {
      "name": "python3",
      "display_name": "Python 3.8.5 64-bit ('spam_detector': conda)",
      "metadata": {
        "interpreter": {
          "hash": "6cc857aa5a74db5eed1aba6eda4dd049adc8522b78a67fb444af357bcd8acc0c"
        }
      }
    },
    "language_info": {
      "name": "python",
      "version": "3.8.5-final"
    }
  },
  "cells": [
    {
      "cell_type": "code",
      "metadata": {
        "id": "y_JCt8_VhUo4"
      },
      "source": [
        "import numpy as np\n",
        "import pandas as pd\n",
        "import matplotlib.pyplot as plt"
      ],
      "execution_count": 1,
      "outputs": []
    },
    {
      "cell_type": "code",
      "metadata": {
        "colab": {
          "base_uri": "https://localhost:8080/",
          "height": 204
        },
        "id": "q6jFixX6hbFV",
        "outputId": "fc439f91-08b1-4452-9747-e27bfc1d59ea"
      },
      "source": [
        "df = pd.read_csv('https://raw.githubusercontent.com/laxmimerit/All-CSV-ML-Data-Files-Download/master/spam.tsv', sep='\\t')\n",
        "df.head()"
      ],
      "execution_count": 2,
      "outputs": [
        {
          "output_type": "execute_result",
          "data": {
            "text/plain": [
              "  label                                            message  length  punct\n",
              "0   ham  Go until jurong point, crazy.. Available only ...     111      9\n",
              "1   ham                      Ok lar... Joking wif u oni...      29      6\n",
              "2  spam  Free entry in 2 a wkly comp to win FA Cup fina...     155      6\n",
              "3   ham  U dun say so early hor... U c already then say...      49      6\n",
              "4   ham  Nah I don't think he goes to usf, he lives aro...      61      2"
            ],
            "text/html": "<div>\n<style scoped>\n    .dataframe tbody tr th:only-of-type {\n        vertical-align: middle;\n    }\n\n    .dataframe tbody tr th {\n        vertical-align: top;\n    }\n\n    .dataframe thead th {\n        text-align: right;\n    }\n</style>\n<table border=\"1\" class=\"dataframe\">\n  <thead>\n    <tr style=\"text-align: right;\">\n      <th></th>\n      <th>label</th>\n      <th>message</th>\n      <th>length</th>\n      <th>punct</th>\n    </tr>\n  </thead>\n  <tbody>\n    <tr>\n      <th>0</th>\n      <td>ham</td>\n      <td>Go until jurong point, crazy.. Available only ...</td>\n      <td>111</td>\n      <td>9</td>\n    </tr>\n    <tr>\n      <th>1</th>\n      <td>ham</td>\n      <td>Ok lar... Joking wif u oni...</td>\n      <td>29</td>\n      <td>6</td>\n    </tr>\n    <tr>\n      <th>2</th>\n      <td>spam</td>\n      <td>Free entry in 2 a wkly comp to win FA Cup fina...</td>\n      <td>155</td>\n      <td>6</td>\n    </tr>\n    <tr>\n      <th>3</th>\n      <td>ham</td>\n      <td>U dun say so early hor... U c already then say...</td>\n      <td>49</td>\n      <td>6</td>\n    </tr>\n    <tr>\n      <th>4</th>\n      <td>ham</td>\n      <td>Nah I don't think he goes to usf, he lives aro...</td>\n      <td>61</td>\n      <td>2</td>\n    </tr>\n  </tbody>\n</table>\n</div>"
          },
          "metadata": {},
          "execution_count": 2
        }
      ]
    },
    {
      "cell_type": "code",
      "metadata": {
        "colab": {
          "base_uri": "https://localhost:8080/"
        },
        "id": "pR3jJ4HUhnOK",
        "outputId": "6e04316a-460b-4809-e802-e4f743828ee6"
      },
      "source": [
        "df.isnull().sum()"
      ],
      "execution_count": 3,
      "outputs": [
        {
          "output_type": "execute_result",
          "data": {
            "text/plain": [
              "label      0\n",
              "message    0\n",
              "length     0\n",
              "punct      0\n",
              "dtype: int64"
            ]
          },
          "metadata": {},
          "execution_count": 3
        }
      ]
    },
    {
      "cell_type": "code",
      "metadata": {
        "colab": {
          "base_uri": "https://localhost:8080/"
        },
        "id": "7zexadQ5hq0X",
        "outputId": "76dd2bc5-e742-4eee-ff5c-1bbe53ad6b45"
      },
      "source": [
        "df['label'].value_counts()"
      ],
      "execution_count": 4,
      "outputs": [
        {
          "output_type": "execute_result",
          "data": {
            "text/plain": [
              "ham     4825\n",
              "spam     747\n",
              "Name: label, dtype: int64"
            ]
          },
          "metadata": {},
          "execution_count": 4
        }
      ]
    },
    {
      "cell_type": "code",
      "metadata": {
        "colab": {
          "base_uri": "https://localhost:8080/",
          "height": 204
        },
        "id": "J8NuEHo4ht-m",
        "outputId": "7fad773b-63f9-4f37-ecb4-39f041282904"
      },
      "source": [
        "ham = df[df['label']=='ham']\n",
        "ham.head()"
      ],
      "execution_count": 5,
      "outputs": [
        {
          "output_type": "execute_result",
          "data": {
            "text/plain": [
              "  label                                            message  length  punct\n",
              "0   ham  Go until jurong point, crazy.. Available only ...     111      9\n",
              "1   ham                      Ok lar... Joking wif u oni...      29      6\n",
              "3   ham  U dun say so early hor... U c already then say...      49      6\n",
              "4   ham  Nah I don't think he goes to usf, he lives aro...      61      2\n",
              "6   ham  Even my brother is not like to speak with me. ...      77      2"
            ],
            "text/html": "<div>\n<style scoped>\n    .dataframe tbody tr th:only-of-type {\n        vertical-align: middle;\n    }\n\n    .dataframe tbody tr th {\n        vertical-align: top;\n    }\n\n    .dataframe thead th {\n        text-align: right;\n    }\n</style>\n<table border=\"1\" class=\"dataframe\">\n  <thead>\n    <tr style=\"text-align: right;\">\n      <th></th>\n      <th>label</th>\n      <th>message</th>\n      <th>length</th>\n      <th>punct</th>\n    </tr>\n  </thead>\n  <tbody>\n    <tr>\n      <th>0</th>\n      <td>ham</td>\n      <td>Go until jurong point, crazy.. Available only ...</td>\n      <td>111</td>\n      <td>9</td>\n    </tr>\n    <tr>\n      <th>1</th>\n      <td>ham</td>\n      <td>Ok lar... Joking wif u oni...</td>\n      <td>29</td>\n      <td>6</td>\n    </tr>\n    <tr>\n      <th>3</th>\n      <td>ham</td>\n      <td>U dun say so early hor... U c already then say...</td>\n      <td>49</td>\n      <td>6</td>\n    </tr>\n    <tr>\n      <th>4</th>\n      <td>ham</td>\n      <td>Nah I don't think he goes to usf, he lives aro...</td>\n      <td>61</td>\n      <td>2</td>\n    </tr>\n    <tr>\n      <th>6</th>\n      <td>ham</td>\n      <td>Even my brother is not like to speak with me. ...</td>\n      <td>77</td>\n      <td>2</td>\n    </tr>\n  </tbody>\n</table>\n</div>"
          },
          "metadata": {},
          "execution_count": 5
        }
      ]
    },
    {
      "cell_type": "code",
      "metadata": {
        "colab": {
          "base_uri": "https://localhost:8080/",
          "height": 204
        },
        "id": "HueiDsJbhwz_",
        "outputId": "707e83c1-3e85-4f86-80b3-2669a0a57101"
      },
      "source": [
        "spam = df[df['label']=='spam']\n",
        "spam.head()"
      ],
      "execution_count": 6,
      "outputs": [
        {
          "output_type": "execute_result",
          "data": {
            "text/plain": [
              "   label                                            message  length  punct\n",
              "2   spam  Free entry in 2 a wkly comp to win FA Cup fina...     155      6\n",
              "5   spam  FreeMsg Hey there darling it's been 3 week's n...     147      8\n",
              "8   spam  WINNER!! As a valued network customer you have...     157      6\n",
              "9   spam  Had your mobile 11 months or more? U R entitle...     154      2\n",
              "11  spam  SIX chances to win CASH! From 100 to 20,000 po...     136      8"
            ],
            "text/html": "<div>\n<style scoped>\n    .dataframe tbody tr th:only-of-type {\n        vertical-align: middle;\n    }\n\n    .dataframe tbody tr th {\n        vertical-align: top;\n    }\n\n    .dataframe thead th {\n        text-align: right;\n    }\n</style>\n<table border=\"1\" class=\"dataframe\">\n  <thead>\n    <tr style=\"text-align: right;\">\n      <th></th>\n      <th>label</th>\n      <th>message</th>\n      <th>length</th>\n      <th>punct</th>\n    </tr>\n  </thead>\n  <tbody>\n    <tr>\n      <th>2</th>\n      <td>spam</td>\n      <td>Free entry in 2 a wkly comp to win FA Cup fina...</td>\n      <td>155</td>\n      <td>6</td>\n    </tr>\n    <tr>\n      <th>5</th>\n      <td>spam</td>\n      <td>FreeMsg Hey there darling it's been 3 week's n...</td>\n      <td>147</td>\n      <td>8</td>\n    </tr>\n    <tr>\n      <th>8</th>\n      <td>spam</td>\n      <td>WINNER!! As a valued network customer you have...</td>\n      <td>157</td>\n      <td>6</td>\n    </tr>\n    <tr>\n      <th>9</th>\n      <td>spam</td>\n      <td>Had your mobile 11 months or more? U R entitle...</td>\n      <td>154</td>\n      <td>2</td>\n    </tr>\n    <tr>\n      <th>11</th>\n      <td>spam</td>\n      <td>SIX chances to win CASH! From 100 to 20,000 po...</td>\n      <td>136</td>\n      <td>8</td>\n    </tr>\n  </tbody>\n</table>\n</div>"
          },
          "metadata": {},
          "execution_count": 6
        }
      ]
    },
    {
      "cell_type": "code",
      "metadata": {
        "colab": {
          "base_uri": "https://localhost:8080/"
        },
        "id": "pJM_PyUshzxX",
        "outputId": "71348e82-9b29-46aa-d8aa-42f639d208c4"
      },
      "source": [
        "ham.shape, spam.shape"
      ],
      "execution_count": 7,
      "outputs": [
        {
          "output_type": "execute_result",
          "data": {
            "text/plain": [
              "((4825, 4), (747, 4))"
            ]
          },
          "metadata": {},
          "execution_count": 7
        }
      ]
    },
    {
      "cell_type": "code",
      "metadata": {
        "colab": {
          "base_uri": "https://localhost:8080/"
        },
        "id": "L7v4bylah2xH",
        "outputId": "26e2ce2c-d63a-4879-a96b-990c74aca7cb"
      },
      "source": [
        "ham = ham.sample(spam.shape[0])\n",
        "ham.shape, spam.shape"
      ],
      "execution_count": 8,
      "outputs": [
        {
          "output_type": "execute_result",
          "data": {
            "text/plain": [
              "((747, 4), (747, 4))"
            ]
          },
          "metadata": {},
          "execution_count": 8
        }
      ]
    },
    {
      "cell_type": "code",
      "metadata": {
        "colab": {
          "base_uri": "https://localhost:8080/",
          "height": 204
        },
        "id": "50Zla7qOh5tv",
        "outputId": "e0d236a9-0a47-451e-e752-3bfc55352816"
      },
      "source": [
        "data = ham.append(spam, ignore_index=True)\n",
        "data.tail()"
      ],
      "execution_count": 9,
      "outputs": [
        {
          "output_type": "execute_result",
          "data": {
            "text/plain": [
              "     label                                            message  length  punct\n",
              "1489  spam  Want explicit SEX in 30 secs? Ring 02073162414...      90      3\n",
              "1490  spam  ASKED 3MOBILE IF 0870 CHATLINES INCLU IN FREE ...     158      5\n",
              "1491  spam  Had your contract mobile 11 Mnths? Latest Moto...     160      8\n",
              "1492  spam  REMINDER FROM O2: To get 2.50 pounds free call...     147      3\n",
              "1493  spam  This is the 2nd time we have tried 2 contact u...     160      8"
            ],
            "text/html": "<div>\n<style scoped>\n    .dataframe tbody tr th:only-of-type {\n        vertical-align: middle;\n    }\n\n    .dataframe tbody tr th {\n        vertical-align: top;\n    }\n\n    .dataframe thead th {\n        text-align: right;\n    }\n</style>\n<table border=\"1\" class=\"dataframe\">\n  <thead>\n    <tr style=\"text-align: right;\">\n      <th></th>\n      <th>label</th>\n      <th>message</th>\n      <th>length</th>\n      <th>punct</th>\n    </tr>\n  </thead>\n  <tbody>\n    <tr>\n      <th>1489</th>\n      <td>spam</td>\n      <td>Want explicit SEX in 30 secs? Ring 02073162414...</td>\n      <td>90</td>\n      <td>3</td>\n    </tr>\n    <tr>\n      <th>1490</th>\n      <td>spam</td>\n      <td>ASKED 3MOBILE IF 0870 CHATLINES INCLU IN FREE ...</td>\n      <td>158</td>\n      <td>5</td>\n    </tr>\n    <tr>\n      <th>1491</th>\n      <td>spam</td>\n      <td>Had your contract mobile 11 Mnths? Latest Moto...</td>\n      <td>160</td>\n      <td>8</td>\n    </tr>\n    <tr>\n      <th>1492</th>\n      <td>spam</td>\n      <td>REMINDER FROM O2: To get 2.50 pounds free call...</td>\n      <td>147</td>\n      <td>3</td>\n    </tr>\n    <tr>\n      <th>1493</th>\n      <td>spam</td>\n      <td>This is the 2nd time we have tried 2 contact u...</td>\n      <td>160</td>\n      <td>8</td>\n    </tr>\n  </tbody>\n</table>\n</div>"
          },
          "metadata": {},
          "execution_count": 9
        }
      ]
    },
    {
      "cell_type": "code",
      "metadata": {
        "colab": {
          "base_uri": "https://localhost:8080/",
          "height": 279
        },
        "id": "rdxng4VSh_g-",
        "outputId": "a30f4364-4415-462e-db02-23a0d90a0609"
      },
      "source": [
        "\n",
        "plt.hist(data[data['label']=='ham']['length'], bins = 100, alpha = 0.7,label='Ham')\n",
        "plt.hist(data[data['label']=='spam']['length'], bins = 100, alpha = 0.7,label='Spam')\n",
        "plt.xlabel('length of messages')\n",
        "plt.ylabel('Frequency')\n",
        "plt.legend()\n",
        "plt.xlim(0,300)\n",
        "plt.show()"
      ],
      "execution_count": 10,
      "outputs": [
        {
          "output_type": "display_data",
          "data": {
            "text/plain": "<Figure size 432x288 with 1 Axes>",
            "image/png": "[encoded data removed]"
          },
          "metadata": {
            "needs_background": "light"
          }
        }
      ]
    },
    {
      "cell_type": "code",
      "metadata": {
        "colab": {
          "base_uri": "https://localhost:8080/",
          "height": 279
        },
        "id": "0jxGqVO4iEL_",
        "outputId": "a4cc01ef-ce1a-4699-d178-1f1c9afe488a"
      },
      "source": [
        "plt.hist(data[data['label']=='ham']['punct'], bins = 100, alpha = 0.7,label='Ham')\n",
        "plt.hist(data[data['label']=='spam']['punct'], bins = 100, alpha = 0.7,label='Spam')\n",
        "plt.xlabel('punctauations')\n",
        "plt.ylabel('Frequency')\n",
        "plt.legend()\n",
        "plt.xlim(0,30)\n",
        "plt.show()"
      ],
      "execution_count": 11,
      "outputs": [
        {
          "output_type": "display_data",
          "data": {
            "text/plain": "<Figure size 432x288 with 1 Axes>",
            "image/png": "[encoded data removed]"
          },
          "metadata": {
            "needs_background": "light"
          }
        }
      ]
    },
    {
      "cell_type": "code",
      "metadata": {
        "id": "Qq18Cr5viIaW"
      },
      "source": [
        "from sklearn.model_selection import train_test_split\n",
        "from sklearn.ensemble import RandomForestClassifier\n",
        "from sklearn.svm import SVC\n",
        "from sklearn.metrics import accuracy_score, classification_report, confusion_matrix\n",
        "from sklearn.pipeline import Pipeline\n",
        "from sklearn.feature_extraction.text import TfidfVectorizer"
      ],
      "execution_count": 12,
      "outputs": []
    },
    {
      "cell_type": "code",
      "metadata": {
        "colab": {
          "base_uri": "https://localhost:8080/",
          "height": 204
        },
        "id": "qiXKbjkciLO9",
        "outputId": "ab82fc8f-eea2-48ca-e99d-7ee1c52606e8"
      },
      "source": [
        "data.head()\n"
      ],
      "execution_count": 13,
      "outputs": [
        {
          "output_type": "execute_result",
          "data": {
            "text/plain": [
              "  label                                            message  length  punct\n",
              "0   ham  Happy new year to u and ur family...may this n...     130      8\n",
              "1   ham               Me i'm not workin. Once i get job...      36      5\n",
              "2   ham  Just re read it and I have no shame but tell m...     138      2\n",
              "3   ham  Never y lei... I v lazy... Got wat? Dat day ü ...      77     10\n",
              "4   ham  if you text on your way to cup stop that shoul...      76      1"
            ],
            "text/html": "<div>\n<style scoped>\n    .dataframe tbody tr th:only-of-type {\n        vertical-align: middle;\n    }\n\n    .dataframe tbody tr th {\n        vertical-align: top;\n    }\n\n    .dataframe thead th {\n        text-align: right;\n    }\n</style>\n<table border=\"1\" class=\"dataframe\">\n  <thead>\n    <tr style=\"text-align: right;\">\n      <th></th>\n      <th>label</th>\n      <th>message</th>\n      <th>length</th>\n      <th>punct</th>\n    </tr>\n  </thead>\n  <tbody>\n    <tr>\n      <th>0</th>\n      <td>ham</td>\n      <td>Happy new year to u and ur family...may this n...</td>\n      <td>130</td>\n      <td>8</td>\n    </tr>\n    <tr>\n      <th>1</th>\n      <td>ham</td>\n      <td>Me i'm not workin. Once i get job...</td>\n      <td>36</td>\n      <td>5</td>\n    </tr>\n    <tr>\n      <th>2</th>\n      <td>ham</td>\n      <td>Just re read it and I have no shame but tell m...</td>\n      <td>138</td>\n      <td>2</td>\n    </tr>\n    <tr>\n      <th>3</th>\n      <td>ham</td>\n      <td>Never y lei... I v lazy... Got wat? Dat day ü ...</td>\n      <td>77</td>\n      <td>10</td>\n    </tr>\n    <tr>\n      <th>4</th>\n      <td>ham</td>\n      <td>if you text on your way to cup stop that shoul...</td>\n      <td>76</td>\n      <td>1</td>\n    </tr>\n  </tbody>\n</table>\n</div>"
          },
          "metadata": {},
          "execution_count": 13
        }
      ]
    },
    {
      "cell_type": "code",
      "metadata": {
        "colab": {
          "base_uri": "https://localhost:8080/"
        },
        "id": "YpRHJEZyidPm",
        "outputId": "0cc72391-0e0f-4a95-cf77-007694c5239c"
      },
      "source": [
        "import nltk\n",
        "nltk.download('punkt') # one time execution"
      ],
      "execution_count": 14,
      "outputs": [
        {
          "output_type": "stream",
          "name": "stderr",
          "text": [
            "[nltk_data] Downloading package punkt to C:\\Users\\Sudhanshu\n[nltk_data]     Rawat\\AppData\\Roaming\\nltk_data...\n[nltk_data]   Package punkt is already up-to-date!\n"
          ]
        },
        {
          "output_type": "execute_result",
          "data": {
            "text/plain": [
              "True"
            ]
          },
          "metadata": {},
          "execution_count": 14
        }
      ]
    },
    {
      "cell_type": "code",
      "metadata": {
        "id": "LqctDSDSiP5e"
      },
      "source": [
        "import gensim\n",
        "from nltk.tokenize import word_tokenize\n",
        "import numpy as np\n",
        "embedding_dim=100\n",
        "text=data['message']\n",
        "\n",
        "Text=[]\n",
        "for i in range(data.shape[0]):\n",
        "    text1=word_tokenize(text[i])\n",
        "    Text=text1+Text\n",
        "\n",
        "\n",
        "\n",
        "model= gensim.models.Word2Vec(sentences=[Text], size=embedding_dim, workers=4, min_count=1)\n",
        "words=list(model.wv.vocab)\n",
        "\n",
        "# print(text1)\n",
        "# print(model[text1])\n",
        "# vector=list(map(lambda x: sum(x)/len(x), zip(*model[text1])))\n",
        "# print(vector)\n",
        "def word_2_vec(x):\n",
        "    t1=word_tokenize(x)\n",
        "    model[t1]\n",
        "    v=list(map(lambda y: sum(y)/len(y), zip(*model[t1])))\n",
        "    a=np.array(v)\n",
        "    return a.reshape(1,-1)"
      ],
      "execution_count": 15,
      "outputs": []
    },
    {
      "cell_type": "markdown",
      "metadata": {
        "id": "GZCVKmQyis5R"
      },
      "source": [
        "### **Applying word2vec to each text message**"
      ]
    },
    {
      "cell_type": "code",
      "metadata": {
        "colab": {
          "base_uri": "https://localhost:8080/",
          "height": 258
        },
        "id": "8SfH0-FEiWzW",
        "outputId": "d2bce37a-eb52-4836-92b9-7d0fd8cafcb1"
      },
      "source": [
        "data['vec']=data['message'].apply(lambda x: word_2_vec(x))\n",
        "data.head()"
      ],
      "execution_count": 16,
      "outputs": [
        {
          "output_type": "stream",
          "name": "stderr",
          "text": [
            "<ipython-input-15-d35cf2fd985e>:23: DeprecationWarning: Call to deprecated `__getitem__` (Method will be removed in 4.0.0, use self.wv.__getitem__() instead).\n  model[t1]\n<ipython-input-15-d35cf2fd985e>:24: DeprecationWarning: Call to deprecated `__getitem__` (Method will be removed in 4.0.0, use self.wv.__getitem__() instead).\n  v=list(map(lambda y: sum(y)/len(y), zip(*model[t1])))\n"
          ]
        },
        {
          "output_type": "execute_result",
          "data": {
            "text/plain": [
              "  label                                            message  length  punct  \\\n",
              "0   ham  Happy new year to u and ur family...may this n...     130      8   \n",
              "1   ham               Me i'm not workin. Once i get job...      36      5   \n",
              "2   ham  Just re read it and I have no shame but tell m...     138      2   \n",
              "3   ham  Never y lei... I v lazy... Got wat? Dat day ü ...      77     10   \n",
              "4   ham  if you text on your way to cup stop that shoul...      76      1   \n",
              "\n",
              "                                                 vec  \n",
              "0  [[-0.013170078039235835, -0.027727627031189122...  \n",
              "1  [[-0.005861080209301276, -0.018581312927629122...  \n",
              "2  [[-0.011585962973185815, -0.02435527997861047,...  \n",
              "3  [[-0.002032963832872073, -0.006650729919783771...  \n",
              "4  [[-0.01425903228422006, -0.03303822799352929, ...  "
            ],
            "text/html": "<div>\n<style scoped>\n    .dataframe tbody tr th:only-of-type {\n        vertical-align: middle;\n    }\n\n    .dataframe tbody tr th {\n        vertical-align: top;\n    }\n\n    .dataframe thead th {\n        text-align: right;\n    }\n</style>\n<table border=\"1\" class=\"dataframe\">\n  <thead>\n    <tr style=\"text-align: right;\">\n      <th></th>\n      <th>label</th>\n      <th>message</th>\n      <th>length</th>\n      <th>punct</th>\n      <th>vec</th>\n    </tr>\n  </thead>\n  <tbody>\n    <tr>\n      <th>0</th>\n      <td>ham</td>\n      <td>Happy new year to u and ur family...may this n...</td>\n      <td>130</td>\n      <td>8</td>\n      <td>[[-0.013170078039235835, -0.027727627031189122...</td>\n    </tr>\n    <tr>\n      <th>1</th>\n      <td>ham</td>\n      <td>Me i'm not workin. Once i get job...</td>\n      <td>36</td>\n      <td>5</td>\n      <td>[[-0.005861080209301276, -0.018581312927629122...</td>\n    </tr>\n    <tr>\n      <th>2</th>\n      <td>ham</td>\n      <td>Just re read it and I have no shame but tell m...</td>\n      <td>138</td>\n      <td>2</td>\n      <td>[[-0.011585962973185815, -0.02435527997861047,...</td>\n    </tr>\n    <tr>\n      <th>3</th>\n      <td>ham</td>\n      <td>Never y lei... I v lazy... Got wat? Dat day ü ...</td>\n      <td>77</td>\n      <td>10</td>\n      <td>[[-0.002032963832872073, -0.006650729919783771...</td>\n    </tr>\n    <tr>\n      <th>4</th>\n      <td>ham</td>\n      <td>if you text on your way to cup stop that shoul...</td>\n      <td>76</td>\n      <td>1</td>\n      <td>[[-0.01425903228422006, -0.03303822799352929, ...</td>\n    </tr>\n  </tbody>\n</table>\n</div>"
          },
          "metadata": {},
          "execution_count": 16
        }
      ]
    },
    {
      "cell_type": "code",
      "metadata": {
        "colab": {
          "base_uri": "https://localhost:8080/"
        },
        "id": "nxPZuzL1i3ko",
        "outputId": "c95b301c-a5c9-4d00-ba29-4c25a9d9c5cd"
      },
      "source": [
        "w_vec=np.concatenate(data['vec'].to_numpy(), axis=0)\n",
        "w_vec.shape"
      ],
      "execution_count": 17,
      "outputs": [
        {
          "output_type": "execute_result",
          "data": {
            "text/plain": [
              "(1494, 100)"
            ]
          },
          "metadata": {},
          "execution_count": 17
        }
      ]
    },
    {
      "cell_type": "code",
      "metadata": {
        "colab": {
          "base_uri": "https://localhost:8080/",
          "height": 253
        },
        "id": "jpCndGcwi88O",
        "outputId": "006b0e38-28d2-4de2-a23c-a79293106361"
      },
      "source": [
        "word_vec=pd.DataFrame(w_vec)\n",
        "word_vec.head()"
      ],
      "execution_count": 18,
      "outputs": [
        {
          "output_type": "execute_result",
          "data": {
            "text/plain": [
              "         0         1         2         3         4         5         6   \\\n",
              "0 -0.013170 -0.027728 -0.014880 -0.005146 -0.001924  0.000826 -0.004126   \n",
              "1 -0.005861 -0.018581 -0.008647 -0.002499  0.000306  0.000745 -0.002124   \n",
              "2 -0.011586 -0.024355 -0.012168 -0.003935 -0.001259  0.000124 -0.003878   \n",
              "3 -0.002033 -0.006651 -0.003204 -0.001960 -0.000117 -0.000474 -0.000195   \n",
              "4 -0.014259 -0.033038 -0.017530 -0.004657 -0.000980  0.001219 -0.005474   \n",
              "\n",
              "         7         8         9   ...        90        91        92        93  \\\n",
              "0  0.026238 -0.002962  0.031891  ... -0.026195  0.009367 -0.005389  0.027584   \n",
              "1  0.016227 -0.000964  0.019394  ... -0.014542  0.004905 -0.002139  0.017271   \n",
              "2  0.022200 -0.002839  0.026670  ... -0.021674  0.008313 -0.004370  0.022523   \n",
              "3  0.005974 -0.001689  0.007950  ... -0.005954  0.001161 -0.001390  0.006596   \n",
              "4  0.030063 -0.004728  0.036064  ... -0.028248  0.012120 -0.005649  0.029963   \n",
              "\n",
              "         94        95        96        97        98        99  \n",
              "0 -0.039432 -0.019647  0.000737 -0.015519 -0.024403  0.016064  \n",
              "1 -0.023171 -0.011364  0.001052 -0.009843 -0.014337  0.008558  \n",
              "2 -0.033274 -0.017702 -0.000341 -0.013658 -0.021191  0.013211  \n",
              "3 -0.010993 -0.003592  0.000520 -0.004428 -0.005832  0.002810  \n",
              "4 -0.043331 -0.025007  0.000483 -0.018779 -0.027553  0.019584  \n",
              "\n",
              "[5 rows x 100 columns]"
            ],
            "text/html": "<div>\n<style scoped>\n    .dataframe tbody tr th:only-of-type {\n        vertical-align: middle;\n    }\n\n    .dataframe tbody tr th {\n        vertical-align: top;\n    }\n\n    .dataframe thead th {\n        text-align: right;\n    }\n</style>\n<table border=\"1\" class=\"dataframe\">\n  <thead>\n    <tr style=\"text-align: right;\">\n      <th></th>\n      <th>0</th>\n      <th>1</th>\n      <th>2</th>\n      <th>3</th>\n      <th>4</th>\n      <th>5</th>\n      <th>6</th>\n      <th>7</th>\n      <th>8</th>\n      <th>9</th>\n      <th>...</th>\n      <th>90</th>\n      <th>91</th>\n      <th>92</th>\n      <th>93</th>\n      <th>94</th>\n      <th>95</th>\n      <th>96</th>\n      <th>97</th>\n      <th>98</th>\n      <th>99</th>\n    </tr>\n  </thead>\n  <tbody>\n    <tr>\n      <th>0</th>\n      <td>-0.013170</td>\n      <td>-0.027728</td>\n      <td>-0.014880</td>\n      <td>-0.005146</td>\n      <td>-0.001924</td>\n      <td>0.000826</td>\n      <td>-0.004126</td>\n      <td>0.026238</td>\n      <td>-0.002962</td>\n      <td>0.031891</td>\n      <td>...</td>\n      <td>-0.026195</td>\n      <td>0.009367</td>\n      <td>-0.005389</td>\n      <td>0.027584</td>\n      <td>-0.039432</td>\n      <td>-0.019647</td>\n      <td>0.000737</td>\n      <td>-0.015519</td>\n      <td>-0.024403</td>\n      <td>0.016064</td>\n    </tr>\n    <tr>\n      <th>1</th>\n      <td>-0.005861</td>\n      <td>-0.018581</td>\n      <td>-0.008647</td>\n      <td>-0.002499</td>\n      <td>0.000306</td>\n      <td>0.000745</td>\n      <td>-0.002124</td>\n      <td>0.016227</td>\n      <td>-0.000964</td>\n      <td>0.019394</td>\n      <td>...</td>\n      <td>-0.014542</td>\n      <td>0.004905</td>\n      <td>-0.002139</td>\n      <td>0.017271</td>\n      <td>-0.023171</td>\n      <td>-0.011364</td>\n      <td>0.001052</td>\n      <td>-0.009843</td>\n      <td>-0.014337</td>\n      <td>0.008558</td>\n    </tr>\n    <tr>\n      <th>2</th>\n      <td>-0.011586</td>\n      <td>-0.024355</td>\n      <td>-0.012168</td>\n      <td>-0.003935</td>\n      <td>-0.001259</td>\n      <td>0.000124</td>\n      <td>-0.003878</td>\n      <td>0.022200</td>\n      <td>-0.002839</td>\n      <td>0.026670</td>\n      <td>...</td>\n      <td>-0.021674</td>\n      <td>0.008313</td>\n      <td>-0.004370</td>\n      <td>0.022523</td>\n      <td>-0.033274</td>\n      <td>-0.017702</td>\n      <td>-0.000341</td>\n      <td>-0.013658</td>\n      <td>-0.021191</td>\n      <td>0.013211</td>\n    </tr>\n    <tr>\n      <th>3</th>\n      <td>-0.002033</td>\n      <td>-0.006651</td>\n      <td>-0.003204</td>\n      <td>-0.001960</td>\n      <td>-0.000117</td>\n      <td>-0.000474</td>\n      <td>-0.000195</td>\n      <td>0.005974</td>\n      <td>-0.001689</td>\n      <td>0.007950</td>\n      <td>...</td>\n      <td>-0.005954</td>\n      <td>0.001161</td>\n      <td>-0.001390</td>\n      <td>0.006596</td>\n      <td>-0.010993</td>\n      <td>-0.003592</td>\n      <td>0.000520</td>\n      <td>-0.004428</td>\n      <td>-0.005832</td>\n      <td>0.002810</td>\n    </tr>\n    <tr>\n      <th>4</th>\n      <td>-0.014259</td>\n      <td>-0.033038</td>\n      <td>-0.017530</td>\n      <td>-0.004657</td>\n      <td>-0.000980</td>\n      <td>0.001219</td>\n      <td>-0.005474</td>\n      <td>0.030063</td>\n      <td>-0.004728</td>\n      <td>0.036064</td>\n      <td>...</td>\n      <td>-0.028248</td>\n      <td>0.012120</td>\n      <td>-0.005649</td>\n      <td>0.029963</td>\n      <td>-0.043331</td>\n      <td>-0.025007</td>\n      <td>0.000483</td>\n      <td>-0.018779</td>\n      <td>-0.027553</td>\n      <td>0.019584</td>\n    </tr>\n  </tbody>\n</table>\n<p>5 rows × 100 columns</p>\n</div>"
          },
          "metadata": {},
          "execution_count": 18
        }
      ]
    },
    {
      "cell_type": "code",
      "metadata": {
        "id": "w-zQhBSejAUW"
      },
      "source": [
        "X_train, X_test, y_train, y_test = train_test_split(word_vec, data['label'], test_size = 0.3, random_state=0, shuffle = True, stratify=data['label'])"
      ],
      "execution_count": 19,
      "outputs": []
    },
    {
      "cell_type": "markdown",
      "metadata": {
        "id": "ZSTPBSi4jeOi"
      },
      "source": [
        "SVM"
      ]
    },
    {
      "cell_type": "code",
      "metadata": {
        "colab": {
          "base_uri": "https://localhost:8080/"
        },
        "id": "XQ9AfzcNjKbg",
        "outputId": "07d95e04-a565-45d2-dba4-63ad715f853d",
        "tags": [
          "outputPrepend"
        ]
      },
      "source": [
        "from sklearn.model_selection import GridSearchCV\n",
        "from sklearn.svm import SVC\n",
        "from sklearn.metrics import accuracy_score\n",
        "Parameter_svc=[{'cache_size': [300,400,200],'tol': [0.0011,0.002,0.003],\n",
        "                'kernel': ['rbf','poly'],\n",
        "               'degree': [3,4,5]}]\n",
        "scores = ['accuracy']\n",
        "\n",
        "clf_svc = GridSearchCV(SVC(), Parameter_svc, scoring='accuracy', verbose=2, cv=5\n",
        "                         )\n",
        "clf_svc.fit(X_train,y_train)\n",
        "\n",
        "\n",
        "print(clf_svc.best_params_)\n",
        "\n",
        "y_pred1 = clf_svc.predict(X_test)\n",
        "\n",
        "accuracy_score(y_pred1,y_test)"
      ],
      "execution_count": 20,
      "outputs": [
        {
          "output_type": "stream",
          "name": "stdout",
          "text": [
            "=   0.0s\n",
            "[CV] END ...cache_size=300, degree=3, kernel=poly, tol=0.002; total time=   0.1s\n",
            "[CV] END ...cache_size=300, degree=3, kernel=poly, tol=0.003; total time=   0.0s\n",
            "[CV] END ...cache_size=300, degree=3, kernel=poly, tol=0.003; total time=   0.0s\n",
            "[CV] END ...cache_size=300, degree=3, kernel=poly, tol=0.003; total time=   0.1s\n",
            "[CV] END ...cache_size=300, degree=3, kernel=poly, tol=0.003; total time=   0.1s\n",
            "[CV] END ...cache_size=300, degree=3, kernel=poly, tol=0.003; total time=   0.1s\n",
            "[CV] END ...cache_size=300, degree=4, kernel=rbf, tol=0.0011; total time=   0.1s\n",
            "[CV] END ...cache_size=300, degree=4, kernel=rbf, tol=0.0011; total time=   0.1s\n",
            "[CV] END ...cache_size=300, degree=4, kernel=rbf, tol=0.0011; total time=   0.1s\n",
            "[CV] END ...cache_size=300, degree=4, kernel=rbf, tol=0.0011; total time=   0.1s\n",
            "[CV] END ...cache_size=300, degree=4, kernel=rbf, tol=0.0011; total time=   0.1s\n",
            "[CV] END ....cache_size=300, degree=4, kernel=rbf, tol=0.002; total time=   0.1s\n",
            "[CV] END ....cache_size=300, degree=4, kernel=rbf, tol=0.002; total time=   0.1s\n",
            "[CV] END ....cache_size=300, degree=4, kernel=rbf, tol=0.002; total time=   0.1s\n",
            "[CV] END ....cache_size=300, degree=4, kernel=rbf, tol=0.002; total time=   0.1s\n",
            "[CV] END ....cache_size=300, degree=4, kernel=rbf, tol=0.002; total time=   0.1s\n",
            "[CV] END ....cache_size=300, degree=4, kernel=rbf, tol=0.003; total time=   0.1s\n",
            "[CV] END ....cache_size=300, degree=4, kernel=rbf, tol=0.003; total time=   0.1s\n",
            "[CV] END ....cache_size=300, degree=4, kernel=rbf, tol=0.003; total time=   0.2s\n",
            "[CV] END ....cache_size=300, degree=4, kernel=rbf, tol=0.003; total time=   0.2s\n",
            "[CV] END ....cache_size=300, degree=4, kernel=rbf, tol=0.003; total time=   0.2s\n",
            "[CV] END ..cache_size=300, degree=4, kernel=poly, tol=0.0011; total time=   0.1s\n",
            "[CV] END ..cache_size=300, degree=4, kernel=poly, tol=0.0011; total time=   0.2s\n",
            "[CV] END ..cache_size=300, degree=4, kernel=poly, tol=0.0011; total time=   0.2s\n",
            "[CV] END ..cache_size=300, degree=4, kernel=poly, tol=0.0011; total time=   0.1s\n",
            "[CV] END ..cache_size=300, degree=4, kernel=poly, tol=0.0011; total time=   0.1s\n",
            "[CV] END ...cache_size=300, degree=4, kernel=poly, tol=0.002; total time=   0.1s\n",
            "[CV] END ...cache_size=300, degree=4, kernel=poly, tol=0.002; total time=   0.0s\n",
            "[CV] END ...cache_size=300, degree=4, kernel=poly, tol=0.002; total time=   0.0s\n",
            "[CV] END ...cache_size=300, degree=4, kernel=poly, tol=0.002; total time=   0.1s\n",
            "[CV] END ...cache_size=300, degree=4, kernel=poly, tol=0.002; total time=   0.0s\n",
            "[CV] END ...cache_size=300, degree=4, kernel=poly, tol=0.003; total time=   0.1s\n",
            "[CV] END ...cache_size=300, degree=4, kernel=poly, tol=0.003; total time=   0.0s\n",
            "[CV] END ...cache_size=300, degree=4, kernel=poly, tol=0.003; total time=   0.0s\n",
            "[CV] END ...cache_size=300, degree=4, kernel=poly, tol=0.003; total time=   0.0s\n",
            "[CV] END ...cache_size=300, degree=4, kernel=poly, tol=0.003; total time=   0.0s\n",
            "[CV] END ...cache_size=300, degree=5, kernel=rbf, tol=0.0011; total time=   0.1s\n",
            "[CV] END ...cache_size=300, degree=5, kernel=rbf, tol=0.0011; total time=   0.1s\n",
            "[CV] END ...cache_size=300, degree=5, kernel=rbf, tol=0.0011; total time=   0.1s\n",
            "[CV] END ...cache_size=300, degree=5, kernel=rbf, tol=0.0011; total time=   0.1s\n",
            "[CV] END ...cache_size=300, degree=5, kernel=rbf, tol=0.0011; total time=   0.1s\n",
            "[CV] END ....cache_size=300, degree=5, kernel=rbf, tol=0.002; total time=   0.1s\n",
            "[CV] END ....cache_size=300, degree=5, kernel=rbf, tol=0.002; total time=   0.1s\n",
            "[CV] END ....cache_size=300, degree=5, kernel=rbf, tol=0.002; total time=   0.1s\n",
            "[CV] END ....cache_size=300, degree=5, kernel=rbf, tol=0.002; total time=   0.0s\n",
            "[CV] END ....cache_size=300, degree=5, kernel=rbf, tol=0.002; total time=   0.1s\n",
            "[CV] END ....cache_size=300, degree=5, kernel=rbf, tol=0.003; total time=   0.1s\n",
            "[CV] END ....cache_size=300, degree=5, kernel=rbf, tol=0.003; total time=   0.1s\n",
            "[CV] END ....cache_size=300, degree=5, kernel=rbf, tol=0.003; total time=   0.2s\n",
            "[CV] END ....cache_size=300, degree=5, kernel=rbf, tol=0.003; total time=   0.2s\n",
            "[CV] END ....cache_size=300, degree=5, kernel=rbf, tol=0.003; total time=   0.1s\n",
            "[CV] END ..cache_size=300, degree=5, kernel=poly, tol=0.0011; total time=   0.1s\n",
            "[CV] END ..cache_size=300, degree=5, kernel=poly, tol=0.0011; total time=   0.0s\n",
            "[CV] END ..cache_size=300, degree=5, kernel=poly, tol=0.0011; total time=   0.1s\n",
            "[CV] END ..cache_size=300, degree=5, kernel=poly, tol=0.0011; total time=   0.1s\n",
            "[CV] END ..cache_size=300, degree=5, kernel=poly, tol=0.0011; total time=   0.1s\n",
            "[CV] END ...cache_size=300, degree=5, kernel=poly, tol=0.002; total time=   0.1s\n",
            "[CV] END ...cache_size=300, degree=5, kernel=poly, tol=0.002; total time=   0.0s\n",
            "[CV] END ...cache_size=300, degree=5, kernel=poly, tol=0.002; total time=   0.1s\n",
            "[CV] END ...cache_size=300, degree=5, kernel=poly, tol=0.002; total time=   0.2s\n",
            "[CV] END ...cache_size=300, degree=5, kernel=poly, tol=0.002; total time=   0.2s\n",
            "[CV] END ...cache_size=300, degree=5, kernel=poly, tol=0.003; total time=   0.2s\n",
            "[CV] END ...cache_size=300, degree=5, kernel=poly, tol=0.003; total time=   0.1s\n",
            "[CV] END ...cache_size=300, degree=5, kernel=poly, tol=0.003; total time=   0.1s\n",
            "[CV] END ...cache_size=300, degree=5, kernel=poly, tol=0.003; total time=   0.1s\n",
            "[CV] END ...cache_size=300, degree=5, kernel=poly, tol=0.003; total time=   0.1s\n",
            "[CV] END ...cache_size=400, degree=3, kernel=rbf, tol=0.0011; total time=   0.1s\n",
            "[CV] END ...cache_size=400, degree=3, kernel=rbf, tol=0.0011; total time=   0.1s\n",
            "[CV] END ...cache_size=400, degree=3, kernel=rbf, tol=0.0011; total time=   0.1s\n",
            "[CV] END ...cache_size=400, degree=3, kernel=rbf, tol=0.0011; total time=   0.1s\n",
            "[CV] END ...cache_size=400, degree=3, kernel=rbf, tol=0.0011; total time=   0.1s\n",
            "[CV] END ....cache_size=400, degree=3, kernel=rbf, tol=0.002; total time=   0.1s\n",
            "[CV] END ....cache_size=400, degree=3, kernel=rbf, tol=0.002; total time=   0.1s\n",
            "[CV] END ....cache_size=400, degree=3, kernel=rbf, tol=0.002; total time=   0.1s\n",
            "[CV] END ....cache_size=400, degree=3, kernel=rbf, tol=0.002; total time=   0.1s\n",
            "[CV] END ....cache_size=400, degree=3, kernel=rbf, tol=0.002; total time=   0.1s\n",
            "[CV] END ....cache_size=400, degree=3, kernel=rbf, tol=0.003; total time=   0.1s\n",
            "[CV] END ....cache_size=400, degree=3, kernel=rbf, tol=0.003; total time=   0.1s\n",
            "[CV] END ....cache_size=400, degree=3, kernel=rbf, tol=0.003; total time=   0.1s\n",
            "[CV] END ....cache_size=400, degree=3, kernel=rbf, tol=0.003; total time=   0.1s\n",
            "[CV] END ....cache_size=400, degree=3, kernel=rbf, tol=0.003; total time=   0.1s\n",
            "[CV] END ..cache_size=400, degree=3, kernel=poly, tol=0.0011; total time=   0.0s\n",
            "[CV] END ..cache_size=400, degree=3, kernel=poly, tol=0.0011; total time=   0.0s\n",
            "[CV] END ..cache_size=400, degree=3, kernel=poly, tol=0.0011; total time=   0.0s\n",
            "[CV] END ..cache_size=400, degree=3, kernel=poly, tol=0.0011; total time=   0.0s\n",
            "[CV] END ..cache_size=400, degree=3, kernel=poly, tol=0.0011; total time=   0.0s\n",
            "[CV] END ...cache_size=400, degree=3, kernel=poly, tol=0.002; total time=   0.0s\n",
            "[CV] END ...cache_size=400, degree=3, kernel=poly, tol=0.002; total time=   0.0s\n",
            "[CV] END ...cache_size=400, degree=3, kernel=poly, tol=0.002; total time=   0.0s\n",
            "[CV] END ...cache_size=400, degree=3, kernel=poly, tol=0.002; total time=   0.0s\n",
            "[CV] END ...cache_size=400, degree=3, kernel=poly, tol=0.002; total time=   0.0s\n",
            "[CV] END ...cache_size=400, degree=3, kernel=poly, tol=0.003; total time=   0.0s\n",
            "[CV] END ...cache_size=400, degree=3, kernel=poly, tol=0.003; total time=   0.0s\n",
            "[CV] END ...cache_size=400, degree=3, kernel=poly, tol=0.003; total time=   0.0s\n",
            "[CV] END ...cache_size=400, degree=3, kernel=poly, tol=0.003; total time=   0.0s\n",
            "[CV] END ...cache_size=400, degree=3, kernel=poly, tol=0.003; total time=   0.0s\n",
            "[CV] END ...cache_size=400, degree=4, kernel=rbf, tol=0.0011; total time=   0.1s\n",
            "[CV] END ...cache_size=400, degree=4, kernel=rbf, tol=0.0011; total time=   0.1s\n",
            "[CV] END ...cache_size=400, degree=4, kernel=rbf, tol=0.0011; total time=   0.1s\n",
            "[CV] END ...cache_size=400, degree=4, kernel=rbf, tol=0.0011; total time=   0.1s\n",
            "[CV] END ...cache_size=400, degree=4, kernel=rbf, tol=0.0011; total time=   0.1s\n",
            "[CV] END ....cache_size=400, degree=4, kernel=rbf, tol=0.002; total time=   0.1s\n",
            "[CV] END ....cache_size=400, degree=4, kernel=rbf, tol=0.002; total time=   0.1s\n",
            "[CV] END ....cache_size=400, degree=4, kernel=rbf, tol=0.002; total time=   0.1s\n",
            "[CV] END ....cache_size=400, degree=4, kernel=rbf, tol=0.002; total time=   0.1s\n",
            "[CV] END ....cache_size=400, degree=4, kernel=rbf, tol=0.002; total time=   0.1s\n",
            "[CV] END ....cache_size=400, degree=4, kernel=rbf, tol=0.003; total time=   0.2s\n",
            "[CV] END ....cache_size=400, degree=4, kernel=rbf, tol=0.003; total time=   0.1s\n",
            "[CV] END ....cache_size=400, degree=4, kernel=rbf, tol=0.003; total time=   0.1s\n",
            "[CV] END ....cache_size=400, degree=4, kernel=rbf, tol=0.003; total time=   0.1s\n",
            "[CV] END ....cache_size=400, degree=4, kernel=rbf, tol=0.003; total time=   0.1s\n",
            "[CV] END ..cache_size=400, degree=4, kernel=poly, tol=0.0011; total time=   0.1s\n",
            "[CV] END ..cache_size=400, degree=4, kernel=poly, tol=0.0011; total time=   0.1s\n",
            "[CV] END ..cache_size=400, degree=4, kernel=poly, tol=0.0011; total time=   0.1s\n",
            "[CV] END ..cache_size=400, degree=4, kernel=poly, tol=0.0011; total time=   0.1s\n",
            "[CV] END ..cache_size=400, degree=4, kernel=poly, tol=0.0011; total time=   0.0s\n",
            "[CV] END ...cache_size=400, degree=4, kernel=poly, tol=0.002; total time=   0.1s\n",
            "[CV] END ...cache_size=400, degree=4, kernel=poly, tol=0.002; total time=   0.0s\n",
            "[CV] END ...cache_size=400, degree=4, kernel=poly, tol=0.002; total time=   0.1s\n",
            "[CV] END ...cache_size=400, degree=4, kernel=poly, tol=0.002; total time=   0.1s\n",
            "[CV] END ...cache_size=400, degree=4, kernel=poly, tol=0.002; total time=   0.1s\n",
            "[CV] END ...cache_size=400, degree=4, kernel=poly, tol=0.003; total time=   0.1s\n",
            "[CV] END ...cache_size=400, degree=4, kernel=poly, tol=0.003; total time=   0.1s\n",
            "[CV] END ...cache_size=400, degree=4, kernel=poly, tol=0.003; total time=   0.1s\n",
            "[CV] END ...cache_size=400, degree=4, kernel=poly, tol=0.003; total time=   0.1s\n",
            "[CV] END ...cache_size=400, degree=4, kernel=poly, tol=0.003; total time=   0.1s\n",
            "[CV] END ...cache_size=400, degree=5, kernel=rbf, tol=0.0011; total time=   0.1s\n",
            "[CV] END ...cache_size=400, degree=5, kernel=rbf, tol=0.0011; total time=   0.1s\n",
            "[CV] END ...cache_size=400, degree=5, kernel=rbf, tol=0.0011; total time=   0.1s\n",
            "[CV] END ...cache_size=400, degree=5, kernel=rbf, tol=0.0011; total time=   0.1s\n",
            "[CV] END ...cache_size=400, degree=5, kernel=rbf, tol=0.0011; total time=   0.2s\n",
            "[CV] END ....cache_size=400, degree=5, kernel=rbf, tol=0.002; total time=   0.1s\n",
            "[CV] END ....cache_size=400, degree=5, kernel=rbf, tol=0.002; total time=   0.1s\n",
            "[CV] END ....cache_size=400, degree=5, kernel=rbf, tol=0.002; total time=   0.1s\n",
            "[CV] END ....cache_size=400, degree=5, kernel=rbf, tol=0.002; total time=   0.1s\n",
            "[CV] END ....cache_size=400, degree=5, kernel=rbf, tol=0.002; total time=   0.1s\n",
            "[CV] END ....cache_size=400, degree=5, kernel=rbf, tol=0.003; total time=   0.1s\n",
            "[CV] END ....cache_size=400, degree=5, kernel=rbf, tol=0.003; total time=   0.1s\n",
            "[CV] END ....cache_size=400, degree=5, kernel=rbf, tol=0.003; total time=   0.1s\n",
            "[CV] END ....cache_size=400, degree=5, kernel=rbf, tol=0.003; total time=   0.1s\n",
            "[CV] END ....cache_size=400, degree=5, kernel=rbf, tol=0.003; total time=   0.1s\n",
            "[CV] END ..cache_size=400, degree=5, kernel=poly, tol=0.0011; total time=   0.1s\n",
            "[CV] END ..cache_size=400, degree=5, kernel=poly, tol=0.0011; total time=   0.1s\n",
            "[CV] END ..cache_size=400, degree=5, kernel=poly, tol=0.0011; total time=   0.1s\n",
            "[CV] END ..cache_size=400, degree=5, kernel=poly, tol=0.0011; total time=   0.1s\n",
            "[CV] END ..cache_size=400, degree=5, kernel=poly, tol=0.0011; total time=   0.1s\n",
            "[CV] END ...cache_size=400, degree=5, kernel=poly, tol=0.002; total time=   0.1s\n",
            "[CV] END ...cache_size=400, degree=5, kernel=poly, tol=0.002; total time=   0.1s\n",
            "[CV] END ...cache_size=400, degree=5, kernel=poly, tol=0.002; total time=   0.1s\n",
            "[CV] END ...cache_size=400, degree=5, kernel=poly, tol=0.002; total time=   0.1s\n",
            "[CV] END ...cache_size=400, degree=5, kernel=poly, tol=0.002; total time=   0.1s\n",
            "[CV] END ...cache_size=400, degree=5, kernel=poly, tol=0.003; total time=   0.1s\n",
            "[CV] END ...cache_size=400, degree=5, kernel=poly, tol=0.003; total time=   0.1s\n",
            "[CV] END ...cache_size=400, degree=5, kernel=poly, tol=0.003; total time=   0.1s\n",
            "[CV] END ...cache_size=400, degree=5, kernel=poly, tol=0.003; total time=   0.1s\n",
            "[CV] END ...cache_size=400, degree=5, kernel=poly, tol=0.003; total time=   0.1s\n",
            "[CV] END ...cache_size=200, degree=3, kernel=rbf, tol=0.0011; total time=   0.1s\n",
            "[CV] END ...cache_size=200, degree=3, kernel=rbf, tol=0.0011; total time=   0.2s\n",
            "[CV] END ...cache_size=200, degree=3, kernel=rbf, tol=0.0011; total time=   0.1s\n",
            "[CV] END ...cache_size=200, degree=3, kernel=rbf, tol=0.0011; total time=   0.1s\n",
            "[CV] END ...cache_size=200, degree=3, kernel=rbf, tol=0.0011; total time=   0.1s\n",
            "[CV] END ....cache_size=200, degree=3, kernel=rbf, tol=0.002; total time=   0.1s\n",
            "[CV] END ....cache_size=200, degree=3, kernel=rbf, tol=0.002; total time=   0.1s\n",
            "[CV] END ....cache_size=200, degree=3, kernel=rbf, tol=0.002; total time=   0.1s\n",
            "[CV] END ....cache_size=200, degree=3, kernel=rbf, tol=0.002; total time=   0.1s\n",
            "[CV] END ....cache_size=200, degree=3, kernel=rbf, tol=0.002; total time=   0.1s\n",
            "[CV] END ....cache_size=200, degree=3, kernel=rbf, tol=0.003; total time=   0.1s\n",
            "[CV] END ....cache_size=200, degree=3, kernel=rbf, tol=0.003; total time=   0.1s\n",
            "[CV] END ....cache_size=200, degree=3, kernel=rbf, tol=0.003; total time=   0.1s\n",
            "[CV] END ....cache_size=200, degree=3, kernel=rbf, tol=0.003; total time=   0.1s\n",
            "[CV] END ....cache_size=200, degree=3, kernel=rbf, tol=0.003; total time=   0.1s\n",
            "[CV] END ..cache_size=200, degree=3, kernel=poly, tol=0.0011; total time=   0.1s\n",
            "[CV] END ..cache_size=200, degree=3, kernel=poly, tol=0.0011; total time=   0.0s\n",
            "[CV] END ..cache_size=200, degree=3, kernel=poly, tol=0.0011; total time=   0.1s\n",
            "[CV] END ..cache_size=200, degree=3, kernel=poly, tol=0.0011; total time=   0.0s\n",
            "[CV] END ..cache_size=200, degree=3, kernel=poly, tol=0.0011; total time=   0.1s\n",
            "[CV] END ...cache_size=200, degree=3, kernel=poly, tol=0.002; total time=   0.0s\n",
            "[CV] END ...cache_size=200, degree=3, kernel=poly, tol=0.002; total time=   0.0s\n",
            "[CV] END ...cache_size=200, degree=3, kernel=poly, tol=0.002; total time=   0.0s\n",
            "[CV] END ...cache_size=200, degree=3, kernel=poly, tol=0.002; total time=   0.0s\n",
            "[CV] END ...cache_size=200, degree=3, kernel=poly, tol=0.002; total time=   0.0s\n",
            "[CV] END ...cache_size=200, degree=3, kernel=poly, tol=0.003; total time=   0.1s\n",
            "[CV] END ...cache_size=200, degree=3, kernel=poly, tol=0.003; total time=   0.0s\n",
            "[CV] END ...cache_size=200, degree=3, kernel=poly, tol=0.003; total time=   0.0s\n",
            "[CV] END ...cache_size=200, degree=3, kernel=poly, tol=0.003; total time=   0.1s\n",
            "[CV] END ...cache_size=200, degree=3, kernel=poly, tol=0.003; total time=   0.1s\n",
            "[CV] END ...cache_size=200, degree=4, kernel=rbf, tol=0.0011; total time=   0.2s\n",
            "[CV] END ...cache_size=200, degree=4, kernel=rbf, tol=0.0011; total time=   0.1s\n",
            "[CV] END ...cache_size=200, degree=4, kernel=rbf, tol=0.0011; total time=   0.1s\n",
            "[CV] END ...cache_size=200, degree=4, kernel=rbf, tol=0.0011; total time=   0.1s\n",
            "[CV] END ...cache_size=200, degree=4, kernel=rbf, tol=0.0011; total time=   0.1s\n",
            "[CV] END ....cache_size=200, degree=4, kernel=rbf, tol=0.002; total time=   0.1s\n",
            "[CV] END ....cache_size=200, degree=4, kernel=rbf, tol=0.002; total time=   0.1s\n",
            "[CV] END ....cache_size=200, degree=4, kernel=rbf, tol=0.002; total time=   0.1s\n",
            "[CV] END ....cache_size=200, degree=4, kernel=rbf, tol=0.002; total time=   0.1s\n",
            "[CV] END ....cache_size=200, degree=4, kernel=rbf, tol=0.002; total time=   0.1s\n",
            "[CV] END ....cache_size=200, degree=4, kernel=rbf, tol=0.003; total time=   0.1s\n",
            "[CV] END ....cache_size=200, degree=4, kernel=rbf, tol=0.003; total time=   0.1s\n",
            "[CV] END ....cache_size=200, degree=4, kernel=rbf, tol=0.003; total time=   0.1s\n",
            "[CV] END ....cache_size=200, degree=4, kernel=rbf, tol=0.003; total time=   0.1s\n",
            "[CV] END ....cache_size=200, degree=4, kernel=rbf, tol=0.003; total time=   0.1s\n",
            "[CV] END ..cache_size=200, degree=4, kernel=poly, tol=0.0011; total time=   0.1s\n",
            "[CV] END ..cache_size=200, degree=4, kernel=poly, tol=0.0011; total time=   0.1s\n",
            "[CV] END ..cache_size=200, degree=4, kernel=poly, tol=0.0011; total time=   0.1s\n",
            "[CV] END ..cache_size=200, degree=4, kernel=poly, tol=0.0011; total time=   0.1s\n",
            "[CV] END ..cache_size=200, degree=4, kernel=poly, tol=0.0011; total time=   0.1s\n",
            "[CV] END ...cache_size=200, degree=4, kernel=poly, tol=0.002; total time=   0.1s\n",
            "[CV] END ...cache_size=200, degree=4, kernel=poly, tol=0.002; total time=   0.0s\n",
            "[CV] END ...cache_size=200, degree=4, kernel=poly, tol=0.002; total time=   0.1s\n",
            "[CV] END ...cache_size=200, degree=4, kernel=poly, tol=0.002; total time=   0.1s\n",
            "[CV] END ...cache_size=200, degree=4, kernel=poly, tol=0.002; total time=   0.1s\n",
            "[CV] END ...cache_size=200, degree=4, kernel=poly, tol=0.003; total time=   0.1s\n",
            "[CV] END ...cache_size=200, degree=4, kernel=poly, tol=0.003; total time=   0.1s\n",
            "[CV] END ...cache_size=200, degree=4, kernel=poly, tol=0.003; total time=   0.1s\n",
            "[CV] END ...cache_size=200, degree=4, kernel=poly, tol=0.003; total time=   0.1s\n",
            "[CV] END ...cache_size=200, degree=4, kernel=poly, tol=0.003; total time=   0.1s\n",
            "[CV] END ...cache_size=200, degree=5, kernel=rbf, tol=0.0011; total time=   0.1s\n",
            "[CV] END ...cache_size=200, degree=5, kernel=rbf, tol=0.0011; total time=   0.1s\n",
            "[CV] END ...cache_size=200, degree=5, kernel=rbf, tol=0.0011; total time=   0.1s\n",
            "[CV] END ...cache_size=200, degree=5, kernel=rbf, tol=0.0011; total time=   0.1s\n",
            "[CV] END ...cache_size=200, degree=5, kernel=rbf, tol=0.0011; total time=   0.1s\n",
            "[CV] END ....cache_size=200, degree=5, kernel=rbf, tol=0.002; total time=   0.1s\n",
            "[CV] END ....cache_size=200, degree=5, kernel=rbf, tol=0.002; total time=   0.1s\n",
            "[CV] END ....cache_size=200, degree=5, kernel=rbf, tol=0.002; total time=   0.1s\n",
            "[CV] END ....cache_size=200, degree=5, kernel=rbf, tol=0.002; total time=   0.1s\n",
            "[CV] END ....cache_size=200, degree=5, kernel=rbf, tol=0.002; total time=   0.1s\n",
            "[CV] END ....cache_size=200, degree=5, kernel=rbf, tol=0.003; total time=   0.1s\n",
            "[CV] END ....cache_size=200, degree=5, kernel=rbf, tol=0.003; total time=   0.1s\n",
            "[CV] END ....cache_size=200, degree=5, kernel=rbf, tol=0.003; total time=   0.1s\n",
            "[CV] END ....cache_size=200, degree=5, kernel=rbf, tol=0.003; total time=   0.1s\n",
            "[CV] END ....cache_size=200, degree=5, kernel=rbf, tol=0.003; total time=   0.1s\n",
            "[CV] END ..cache_size=200, degree=5, kernel=poly, tol=0.0011; total time=   0.1s\n",
            "[CV] END ..cache_size=200, degree=5, kernel=poly, tol=0.0011; total time=   0.0s\n",
            "[CV] END ..cache_size=200, degree=5, kernel=poly, tol=0.0011; total time=   0.1s\n",
            "[CV] END ..cache_size=200, degree=5, kernel=poly, tol=0.0011; total time=   0.1s\n",
            "[CV] END ..cache_size=200, degree=5, kernel=poly, tol=0.0011; total time=   0.1s\n",
            "[CV] END ...cache_size=200, degree=5, kernel=poly, tol=0.002; total time=   0.1s\n",
            "[CV] END ...cache_size=200, degree=5, kernel=poly, tol=0.002; total time=   0.1s\n",
            "[CV] END ...cache_size=200, degree=5, kernel=poly, tol=0.002; total time=   0.1s\n",
            "[CV] END ...cache_size=200, degree=5, kernel=poly, tol=0.002; total time=   0.1s\n",
            "[CV] END ...cache_size=200, degree=5, kernel=poly, tol=0.002; total time=   0.1s\n",
            "[CV] END ...cache_size=200, degree=5, kernel=poly, tol=0.003; total time=   0.1s\n",
            "[CV] END ...cache_size=200, degree=5, kernel=poly, tol=0.003; total time=   0.1s\n",
            "[CV] END ...cache_size=200, degree=5, kernel=poly, tol=0.003; total time=   0.1s\n",
            "[CV] END ...cache_size=200, degree=5, kernel=poly, tol=0.003; total time=   0.1s\n",
            "[CV] END ...cache_size=200, degree=5, kernel=poly, tol=0.003; total time=   0.1s\n",
            "{'cache_size': 300, 'degree': 3, 'kernel': 'rbf', 'tol': 0.0011}\n"
          ]
        },
        {
          "output_type": "execute_result",
          "data": {
            "text/plain": [
              "0.7060133630289532"
            ]
          },
          "metadata": {},
          "execution_count": 20
        }
      ]
    },
    {
      "cell_type": "markdown",
      "metadata": {
        "id": "lTnGDIiyj65W"
      },
      "source": [
        "Random_Forest classifier"
      ]
    },
    {
      "cell_type": "code",
      "metadata": {
        "id": "TnQgXT4VjhhI"
      },
      "source": [
        "from sklearn.ensemble import RandomForestClassifier\n",
        "RF_Cl=RandomForestClassifier(n_estimators=900)\n",
        "RF_Cl.fit(X_train,y_train)\n",
        "y_pred=RF_Cl.predict(X_test)"
      ],
      "execution_count": 21,
      "outputs": []
    },
    {
      "cell_type": "code",
      "metadata": {
        "colab": {
          "base_uri": "https://localhost:8080/"
        },
        "id": "WUEwlXj4j-jI",
        "outputId": "349c0cc8-20e1-489a-d600-a23baa49841d"
      },
      "source": [
        "print(classification_report(y_test, y_pred))"
      ],
      "execution_count": 22,
      "outputs": [
        {
          "output_type": "stream",
          "name": "stdout",
          "text": [
            "              precision    recall  f1-score   support\n\n         ham       0.80      0.83      0.81       225\n        spam       0.82      0.79      0.81       224\n\n    accuracy                           0.81       449\n   macro avg       0.81      0.81      0.81       449\nweighted avg       0.81      0.81      0.81       449\n\n"
          ]
        }
      ]
    },
    {
      "cell_type": "markdown",
      "metadata": {
        "id": "J3MCgz_ykHrE"
      },
      "source": [
        "Classification of texts using TFidf\n"
      ]
    },
    {
      "cell_type": "code",
      "metadata": {
        "colab": {
          "base_uri": "https://localhost:8080/"
        },
        "id": "0pxsWqFgkDOG",
        "outputId": "35d44ca4-3d6c-42cd-dcd5-012ea1ffa68e"
      },
      "source": [
        "X_train, X_test, y_train, y_test = train_test_split(data['message'], data['label'], test_size = 0.3, random_state=0, shuffle = True, stratify=data['label'])\n",
        "vectorizer = TfidfVectorizer()\n",
        "X_train_vect = vectorizer.fit_transform(X_train)\n",
        "X_train_vect.shape"
      ],
      "execution_count": 23,
      "outputs": [
        {
          "output_type": "execute_result",
          "data": {
            "text/plain": [
              "(1045, 3642)"
            ]
          },
          "metadata": {},
          "execution_count": 23
        }
      ]
    },
    {
      "cell_type": "markdown",
      "metadata": {
        "id": "gWOW05SCkPUI"
      },
      "source": [
        "Pipeline and Random_Forest classifier"
      ]
    },
    {
      "cell_type": "code",
      "metadata": {
        "colab": {
          "base_uri": "https://localhost:8080/"
        },
        "id": "Gj_f1dv-kLI6",
        "outputId": "ba89a8b3-18d9-497f-d977-0d287b19d1be"
      },
      "source": [
        "clf_rf = Pipeline([('tfidf', TfidfVectorizer()), ('clf', RandomForestClassifier(n_estimators=100, n_jobs=-1))])\n",
        "clf_rf.fit(X_train, y_train)\n",
        "y_pred = clf_rf.predict(X_test)\n",
        "confusion_matrix(y_test, y_pred)"
      ],
      "execution_count": 24,
      "outputs": [
        {
          "output_type": "execute_result",
          "data": {
            "text/plain": [
              "array([[225,   0],\n",
              "       [ 27, 197]], dtype=int64)"
            ]
          },
          "metadata": {},
          "execution_count": 24
        }
      ]
    },
    {
      "cell_type": "code",
      "metadata": {
        "colab": {
          "base_uri": "https://localhost:8080/"
        },
        "id": "R4NzE8tQkSVG",
        "outputId": "d3362785-feca-4c40-b5b1-5c9bee2bbb2a"
      },
      "source": [
        "print(classification_report(y_test, y_pred))"
      ],
      "execution_count": 25,
      "outputs": [
        {
          "output_type": "stream",
          "name": "stdout",
          "text": [
            "              precision    recall  f1-score   support\n\n         ham       0.89      1.00      0.94       225\n        spam       1.00      0.88      0.94       224\n\n    accuracy                           0.94       449\n   macro avg       0.95      0.94      0.94       449\nweighted avg       0.95      0.94      0.94       449\n\n"
          ]
        }
      ]
    },
    {
      "cell_type": "code",
      "metadata": {
        "colab": {
          "base_uri": "https://localhost:8080/"
        },
        "id": "pgIkOT9rkVZe",
        "outputId": "0d3fe8ed-dba4-4ebc-a4c5-ad81449d380b"
      },
      "source": [
        "accuracy_score(y_test, y_pred)"
      ],
      "execution_count": 26,
      "outputs": [
        {
          "output_type": "execute_result",
          "data": {
            "text/plain": [
              "0.9398663697104677"
            ]
          },
          "metadata": {},
          "execution_count": 26
        }
      ]
    },
    {
      "cell_type": "markdown",
      "metadata": {
        "id": "f9Ia6XhAkfj0"
      },
      "source": [
        "Support Vector Machine"
      ]
    },
    {
      "cell_type": "code",
      "metadata": {
        "colab": {
          "base_uri": "https://localhost:8080/"
        },
        "id": "PmMEvqAWka9X",
        "outputId": "d12942db-90a4-4fe1-c47d-8bb0f9da9657"
      },
      "source": [
        "clf_svc = Pipeline([('tfidf', TfidfVectorizer()), ('clf', SVC(C = 1000, gamma = 'auto'))])\n",
        "clf_svc.fit(X_train, y_train)\n",
        "y_pred = clf_svc.predict(X_test)\n",
        "confusion_matrix(y_test, y_pred)"
      ],
      "execution_count": 27,
      "outputs": [
        {
          "output_type": "execute_result",
          "data": {
            "text/plain": [
              "array([[224,   1],\n",
              "       [ 19, 205]], dtype=int64)"
            ]
          },
          "metadata": {},
          "execution_count": 27
        }
      ]
    },
    {
      "cell_type": "code",
      "metadata": {
        "colab": {
          "base_uri": "https://localhost:8080/"
        },
        "id": "it3RXm5bkikO",
        "outputId": "c6905e7c-6f05-47fe-f4c3-9d005d8821db"
      },
      "source": [
        "print(classification_report(y_test, y_pred))"
      ],
      "execution_count": 28,
      "outputs": [
        {
          "output_type": "stream",
          "name": "stdout",
          "text": [
            "              precision    recall  f1-score   support\n\n         ham       0.92      1.00      0.96       225\n        spam       1.00      0.92      0.95       224\n\n    accuracy                           0.96       449\n   macro avg       0.96      0.96      0.96       449\nweighted avg       0.96      0.96      0.96       449\n\n"
          ]
        }
      ]
    },
    {
      "cell_type": "code",
      "metadata": {
        "colab": {
          "base_uri": "https://localhost:8080/"
        },
        "id": "bWK7pel4kniC",
        "outputId": "ecbe9c53-302e-47b8-90d7-e154b119e691"
      },
      "source": [
        "accuracy_score(y_test, y_pred)"
      ],
      "execution_count": 29,
      "outputs": [
        {
          "output_type": "execute_result",
          "data": {
            "text/plain": [
              "0.955456570155902"
            ]
          },
          "metadata": {},
          "execution_count": 29
        }
      ]
    },
    {
      "cell_type": "markdown",
      "metadata": {
        "id": "1cNUhBWklzBr"
      },
      "source": [
        "Saving model"
      ]
    },
    {
      "cell_type": "code",
      "metadata": {
        "id": "8_mqPmsYkrV3"
      },
      "source": [
        "import pickle as pkl\n",
        "with open('model.pkl','wb') as file:\n",
        "    pkl.dump(clf_svc,file)\n"
      ],
      "execution_count": 30,
      "outputs": []
    },
    {
      "cell_type": "code",
      "metadata": {
        "id": "18Z0kvUil7zq",
        "colab": {
          "base_uri": "https://localhost:8080/"
        },
        "outputId": "3ea510f8-7273-4315-d141-a3caff716186"
      },
      "source": [
        "clf_svc.predict([\"Hey, whassup?\"])"
      ],
      "execution_count": 31,
      "outputs": [
        {
          "output_type": "execute_result",
          "data": {
            "text/plain": [
              "array(['ham'], dtype=object)"
            ]
          },
          "metadata": {},
          "execution_count": 31
        }
      ]
    },
    {
      "cell_type": "code",
      "metadata": {
        "id": "Ps4MQIvy78Ft"
      },
      "source": [
        "with open('model.pkl','rb') as f:\n",
        "    data=pkl.load(f)"
      ],
      "execution_count": 32,
      "outputs": []
    },
    {
      "cell_type": "code",
      "metadata": {
        "id": "hBuB2ZXU8HLr",
        "colab": {
          "base_uri": "https://localhost:8080/"
        },
        "outputId": "2cd0fc38-d3ba-4c91-dae4-a5f2b60f0a30"
      },
      "source": [
        "data.predict(['Hey, whatssup?'])"
      ],
      "execution_count": 33,
      "outputs": [
        {
          "output_type": "execute_result",
          "data": {
            "text/plain": [
              "array(['ham'], dtype=object)"
            ]
          },
          "metadata": {},
          "execution_count": 33
        }
      ]
    },
    {
      "cell_type": "code",
      "metadata": {
        "id": "ztAwUzLN8NWr"
      },
      "source": [],
      "execution_count": null,
      "outputs": []
    }
  ]
}